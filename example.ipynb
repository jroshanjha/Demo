{
 "cells": [
  {
   "cell_type": "code",
   "execution_count": 1,
   "metadata": {},
   "outputs": [
    {
     "data": {
      "text/plain": [
       "\"\\nI'd be happy to help you with Python functions. \\nA Python function is a reusable block of code that performs a specific task. \\nIt can take input parameters, perform some operations, and return a value. \\n\""
      ]
     },
     "execution_count": 1,
     "metadata": {},
     "output_type": "execute_result"
    }
   ],
   "source": [
    "'''\n",
    "I'd be happy to help you with Python functions. \n",
    "A Python function is a reusable block of code that performs a specific task. \n",
    "It can take input parameters, perform some operations, and return a value. \n",
    "'''\n",
    "\n"
   ]
  },
  {
   "cell_type": "code",
   "execution_count": 3,
   "metadata": {},
   "outputs": [
    {
     "name": "stdout",
     "output_type": "stream",
     "text": [
      "5\n"
     ]
    }
   ],
   "source": [
    "x = lambda x,y: x+y\n",
    "print(x(2,3))\n",
    "#numbers = [1, 2, 3, 4, 5]"
   ]
  },
  {
   "cell_type": "code",
   "execution_count": null,
   "metadata": {},
   "outputs": [],
   "source": []
  },
  {
   "cell_type": "code",
   "execution_count": null,
   "metadata": {},
   "outputs": [],
   "source": []
  },
  {
   "cell_type": "code",
   "execution_count": null,
   "metadata": {},
   "outputs": [],
   "source": []
  },
  {
   "cell_type": "code",
   "execution_count": 23,
   "metadata": {},
   "outputs": [
    {
     "name": "stdout",
     "output_type": "stream",
     "text": [
      "hellow python\n"
     ]
    }
   ],
   "source": [
    "def my_fun():\n",
    "    #pass\n",
    "    print('hellow python')\n",
    "    \n",
    "my_fun()\n",
    "    "
   ]
  },
  {
   "cell_type": "code",
   "execution_count": null,
   "metadata": {},
   "outputs": [
    {
     "name": "stdout",
     "output_type": "stream",
     "text": [
      "hellow python\n"
     ]
    }
   ],
   "source": [
    "def my_fun():\n",
    "    #pass\n",
    "    print('hellow python')\n",
    "    \n",
    "my_fun()\n",
    "    "
   ]
  },
  {
   "cell_type": "code",
   "execution_count": null,
   "metadata": {},
   "outputs": [],
   "source": []
  },
  {
   "cell_type": "code",
   "execution_count": null,
   "metadata": {},
   "outputs": [
    {
     "name": "stdout",
     "output_type": "stream",
     "text": [
      "hellow python\n"
     ]
    }
   ],
   "source": [
    "def my_fun():\n",
    "    #pass\n",
    "    print('hellow python')\n",
    "    \n",
    "my_fun()\n",
    "    "
   ]
  },
  {
   "cell_type": "code",
   "execution_count": null,
   "metadata": {},
   "outputs": [
    {
     "name": "stdout",
     "output_type": "stream",
     "text": [
      "hellow python\n"
     ]
    }
   ],
   "source": [
    "def my_fun():\n",
    "    #pass\n",
    "    print('hellow python')\n",
    "    \n",
    "my_fun()\n",
    "    "
   ]
  },
  {
   "cell_type": "code",
   "execution_count": null,
   "metadata": {},
   "outputs": [
    {
     "name": "stdout",
     "output_type": "stream",
     "text": [
      "hellow python\n"
     ]
    }
   ],
   "source": [
    "def my_fun():\n",
    "    #pass\n",
    "    print('hellow python')\n",
    "    \n",
    "my_fun()\n",
    "    "
   ]
  },
  {
   "cell_type": "code",
   "execution_count": null,
   "metadata": {},
   "outputs": [],
   "source": []
  },
  {
   "cell_type": "code",
   "execution_count": null,
   "metadata": {},
   "outputs": [],
   "source": []
  },
  {
   "cell_type": "code",
   "execution_count": null,
   "metadata": {},
   "outputs": [],
   "source": []
  },
  {
   "cell_type": "code",
   "execution_count": null,
   "metadata": {},
   "outputs": [],
   "source": []
  },
  {
   "cell_type": "code",
   "execution_count": null,
   "metadata": {},
   "outputs": [],
   "source": []
  },
  {
   "cell_type": "code",
   "execution_count": null,
   "metadata": {},
   "outputs": [],
   "source": []
  },
  {
   "cell_type": "code",
   "execution_count": null,
   "metadata": {},
   "outputs": [],
   "source": []
  },
  {
   "cell_type": "code",
   "execution_count": null,
   "metadata": {},
   "outputs": [],
   "source": []
  },
  {
   "cell_type": "code",
   "execution_count": null,
   "metadata": {},
   "outputs": [],
   "source": []
  },
  {
   "cell_type": "code",
   "execution_count": null,
   "metadata": {},
   "outputs": [],
   "source": []
  },
  {
   "cell_type": "code",
   "execution_count": null,
   "metadata": {},
   "outputs": [],
   "source": []
  },
  {
   "cell_type": "code",
   "execution_count": null,
   "metadata": {},
   "outputs": [],
   "source": []
  },
  {
   "cell_type": "code",
   "execution_count": null,
   "metadata": {},
   "outputs": [],
   "source": []
  },
  {
   "cell_type": "code",
   "execution_count": null,
   "metadata": {},
   "outputs": [],
   "source": []
  },
  {
   "cell_type": "code",
   "execution_count": null,
   "metadata": {},
   "outputs": [],
   "source": []
  },
  {
   "cell_type": "code",
   "execution_count": null,
   "metadata": {},
   "outputs": [],
   "source": []
  },
  {
   "cell_type": "code",
   "execution_count": null,
   "metadata": {},
   "outputs": [],
   "source": []
  },
  {
   "cell_type": "code",
   "execution_count": null,
   "metadata": {},
   "outputs": [],
   "source": []
  },
  {
   "cell_type": "code",
   "execution_count": 24,
   "metadata": {},
   "outputs": [
    {
     "name": "stdout",
     "output_type": "stream",
     "text": [
      "16\n"
     ]
    }
   ],
   "source": [
    "def calculate_area(length, width):\n",
    "    area = length * width\n",
    "    return area\n",
    "\n",
    "print(calculate_area(2,8))      \n",
    "\n"
   ]
  },
  {
   "cell_type": "code",
   "execution_count": 25,
   "metadata": {},
   "outputs": [
    {
     "name": "stdout",
     "output_type": "stream",
     "text": [
      "Hello, Programmer!!!!\n",
      "Hi, Machine Learning!!!!\n"
     ]
    }
   ],
   "source": [
    "def hellow_fun(name, greeting=\"Hello\"):\n",
    "    print(f\"{greeting}, {name}!\")\n",
    "\n",
    "hellow_fun(\"Programmer!!!\")  # Output: Hello, Programmer!!!\n",
    "hellow_fun(\"Machine Learning!!!\", \"Hi\")  # Output: Hi, Machine Learning!!!"
   ]
  },
  {
   "cell_type": "code",
   "execution_count": null,
   "metadata": {},
   "outputs": [],
   "source": [
    "'''\n",
    "In Python, a lambda function, also known as an anonymous function, \n",
    "is a small, one-line function that can be defined without a name. \n",
    "The main purpose of lambda functions is to provide a concise way to define simple, inline functions.\n",
    "'''"
   ]
  },
  {
   "cell_type": "code",
   "execution_count": null,
   "metadata": {},
   "outputs": [],
   "source": []
  },
  {
   "cell_type": "code",
   "execution_count": null,
   "metadata": {},
   "outputs": [],
   "source": []
  },
  {
   "cell_type": "code",
   "execution_count": 1,
   "metadata": {},
   "outputs": [
    {
     "name": "stdout",
     "output_type": "stream",
     "text": [
      "[2, 5, 2, 5]\n"
     ]
    }
   ],
   "source": [
    "double = lambda x: x * 2\n",
    "print(double(5))  \n",
    "\n",
    "\n",
    "\n",
    "val = 9\n",
    "x = lambda: print(val)\n",
    "print(x())"
   ]
  },
  {
   "cell_type": "code",
   "execution_count": null,
   "metadata": {},
   "outputs": [],
   "source": [
    "'''\n",
    "Lambda functions are commonly used in combination with other higher-order functions, \n",
    "such as map(), filter(), and reduce(), \n",
    "which take a function as an argument. Here's an example of using a lambda function with map():\n",
    "\n",
    "'''"
   ]
  },
  {
   "cell_type": "code",
   "execution_count": null,
   "metadata": {},
   "outputs": [],
   "source": [
    "''' \n",
    "map() function:\n",
    "The map() function applies a given function to each \n",
    "item in an iterable \n",
    "(such as a list, tuple, or string).\n",
    "\n",
    "'''\n",
    "# map(function, iterable)"
   ]
  },
  {
   "cell_type": "code",
   "execution_count": 3,
   "metadata": {},
   "outputs": [
    {
     "name": "stdout",
     "output_type": "stream",
     "text": [
      "[2, 5, 2, 5]\n"
     ]
    }
   ],
   "source": [
    "double = lambda x: x * 2\n",
    "print(double([2,5])) "
   ]
  },
  {
   "cell_type": "code",
   "execution_count": 7,
   "metadata": {},
   "outputs": [
    {
     "name": "stdout",
     "output_type": "stream",
     "text": [
      "[2, 4, 6, 8, 10]\n"
     ]
    }
   ],
   "source": [
    "numbers = [1, 2, 3, 4, 5]\n",
    "\n",
    "doubled_numbers = list(map(lambda x: x * 2, numbers))\n",
    "\n",
    "print(doubled_numbers)  \n",
    "\n",
    "\n",
    "# Output: [2, 4, 6, 8, 10]\n"
   ]
  },
  {
   "cell_type": "code",
   "execution_count": null,
   "metadata": {},
   "outputs": [],
   "source": []
  },
  {
   "cell_type": "code",
   "execution_count": null,
   "metadata": {},
   "outputs": [],
   "source": [
    "'''  \n",
    "filter() function:\n",
    "The filter() function creates a new iterable (such as a list)\n",
    "with all the elements from the original iterable for which \n",
    "the given function returns True.\n",
    "\n",
    "'''\n",
    "filter(function, iterable)"
   ]
  },
  {
   "cell_type": "code",
   "execution_count": 6,
   "metadata": {},
   "outputs": [],
   "source": [
    "def fun(x):\n",
    "    if x % 2== 0:\n",
    "        return x\n",
    "    "
   ]
  },
  {
   "cell_type": "code",
   "execution_count": 9,
   "metadata": {},
   "outputs": [
    {
     "name": "stdout",
     "output_type": "stream",
     "text": [
      "[2, 4, 6, 8, 10]\n"
     ]
    }
   ],
   "source": [
    "numbers = [1, 2, 3, 4, 5, 6, 7, 8, 9, 10]\n",
    "\n",
    "#even_numbers = list(filter(fun, numbers))\n",
    "\n",
    "even_numbers = list(filter(lambda x: x % 2 == 0, numbers))\n",
    "\n",
    "print(even_numbers)  \n",
    "\n",
    "# Output: [2, 4, 6, 8, 10]\n"
   ]
  },
  {
   "cell_type": "code",
   "execution_count": null,
   "metadata": {},
   "outputs": [],
   "source": []
  },
  {
   "cell_type": "code",
   "execution_count": null,
   "metadata": {},
   "outputs": [],
   "source": []
  },
  {
   "cell_type": "code",
   "execution_count": null,
   "metadata": {},
   "outputs": [],
   "source": []
  },
  {
   "cell_type": "code",
   "execution_count": null,
   "metadata": {},
   "outputs": [],
   "source": [
    "''' \n",
    "reduce() function:\n",
    "The reduce() function is part of the functools module and applies a \n",
    "function of two arguments cumulatively to the elements of a sequence, \n",
    "from left to right, to reduce the sequence to a single value.\n",
    "\n",
    "'''\n",
    "\n",
    "from functools import reduce\n",
    "reduce(function, iterable)"
   ]
  },
  {
   "cell_type": "code",
   "execution_count": 2,
   "metadata": {},
   "outputs": [
    {
     "name": "stdout",
     "output_type": "stream",
     "text": [
      "120\n"
     ]
    }
   ],
   "source": [
    "from functools import reduce\n",
    "\n",
    "numbers = [1, 2, 3, 4, 5]\n",
    "product = reduce(lambda x, y: x * y, numbers)\n",
    "print(product)  \n",
    "\n"
   ]
  },
  {
   "cell_type": "code",
   "execution_count": null,
   "metadata": {},
   "outputs": [],
   "source": []
  },
  {
   "cell_type": "code",
   "execution_count": 4,
   "metadata": {},
   "outputs": [
    {
     "name": "stdout",
     "output_type": "stream",
     "text": [
      "0\n",
      "4\n",
      "8\n",
      "12\n",
      "16\n"
     ]
    }
   ],
   "source": [
    "for i in range(10):\n",
    "   if i % 2==0:\n",
    "      print(2*i)"
   ]
  },
  {
   "cell_type": "code",
   "execution_count": null,
   "metadata": {},
   "outputs": [],
   "source": []
  },
  {
   "cell_type": "code",
   "execution_count": 1,
   "metadata": {},
   "outputs": [
    {
     "data": {
      "text/plain": [
       "'HellowABTech'"
      ]
     },
     "execution_count": 1,
     "metadata": {},
     "output_type": "execute_result"
    }
   ],
   "source": [
    "first ='A'\n",
    "last = 'B'\n",
    "'Hellow'+first+last+'Tech'"
   ]
  },
  {
   "cell_type": "code",
   "execution_count": 2,
   "metadata": {},
   "outputs": [
    {
     "name": "stdout",
     "output_type": "stream",
     "text": [
      "Hellow A B! You just delved into python.\n"
     ]
    }
   ],
   "source": [
    "# result = 'Hellow '+first +' '+last+'! '+'You just delved into python.'\n",
    "# print(result)"
   ]
  },
  {
   "cell_type": "code",
   "execution_count": 6,
   "metadata": {},
   "outputs": [
    {
     "data": {
      "text/plain": [
       "'Hellow A B! you just delved into python.'"
      ]
     },
     "execution_count": 6,
     "metadata": {},
     "output_type": "execute_result"
    }
   ],
   "source": [
    "result = f\"Hellow {first} {last}! you just delved into python.\"\n",
    "result"
   ]
  },
  {
   "cell_type": "code",
   "execution_count": null,
   "metadata": {},
   "outputs": [],
   "source": []
  },
  {
   "cell_type": "code",
   "execution_count": null,
   "metadata": {},
   "outputs": [],
   "source": []
  },
  {
   "cell_type": "code",
   "execution_count": 5,
   "metadata": {},
   "outputs": [
    {
     "name": "stdout",
     "output_type": "stream",
     "text": [
      "[0, 4, 16, 36, 64]\n",
      "{2, 3}\n",
      "{1: 1, 3: 9, 5: 25, 7: 49, 9: 81}\n"
     ]
    }
   ],
   "source": [
    "# List Comprehension:\n",
    "li = [x**2 for x in range(10) if x % 2 == 0]\n",
    "\n",
    "# Set Comprehension:\n",
    "se = {x for x in [1, 2, 3, 2, 1] if x > 1}\n",
    "\n",
    "# Dictionary Comprehension: \n",
    "d = {x: x**2 for x in range(10) if x % 2}\n",
    "\n",
    "print(li)\n",
    "print(se)\n",
    "print(d)"
   ]
  },
  {
   "cell_type": "code",
   "execution_count": null,
   "metadata": {},
   "outputs": [],
   "source": []
  },
  {
   "cell_type": "code",
   "execution_count": 34,
   "metadata": {},
   "outputs": [
    {
     "name": "stdout",
     "output_type": "stream",
     "text": [
      "[0, 4, 16, 36, 64]\n",
      "{2, 3}\n",
      "{0: 0, 1: 1, 2: 4, 3: 9, 4: 16}\n"
     ]
    },
    {
     "data": {
      "text/plain": [
       "' Python comprehensions can make your code more concise, readable, \\nand efficient, especially when working with large or complex data structures. They are often used in data manipulation, list operations, and other scenarios where you need to create new collections from existing ones.\\n\\n   Here are a few additional points about Python comprehensions:\\n\\n. Comprehensions can be nested to create complex data structures.\\n. Comprehensions can be used with any iterable, not just lists.\\n. Comprehensions can include conditional logic using the if statement.\\n. Comprehensions can be combined with other Python functions, such as map(), filter(), and lambda.\\n. Overall, Python comprehensions are a powerful and versatile feature that can greatly \\n. improve the readability and efficiency of your code. '"
      ]
     },
     "execution_count": 34,
     "metadata": {},
     "output_type": "execute_result"
    }
   ],
   "source": [
    "''' Python comprehensions, also known as list comprehensions, \n",
    "set comprehensions, and dictionary comprehensions, are concise \n",
    "and efficient ways to create new data structures (lists, sets, or dictionaries) \n",
    "from existing ones. They provide a more readable and compact syntax compared to \n",
    "traditional for loops and conditional statements.\n",
    "\n",
    "Here are the three main types of Python comprehensions:'''\n",
    "\n",
    "'''List Comprehension:\n",
    "Syntax: \n",
    "[expression for item in iterable if condition]\n",
    "Example:  '''\n",
    "\n",
    "\n",
    "li = [x**2 for x in range(10) if x % 2 == 0]\n",
    "\n",
    "#This will create a new list containing the squares of even numbers from 0 to 9.\n",
    "\n",
    "'''Set Comprehension:\n",
    "Syntax: {expression for item in iterable if condition}\n",
    "Example:  ''' \n",
    "se = {x for x in [1, 2, 3, 2, 1] if x > 1}\n",
    "#This will create a new set containing the unique numbers greater than 1 from the given list.\n",
    "\n",
    "'''Dictionary Comprehension:\n",
    "Syntax: {key_expression: value_expression for item in iterable if condition}\n",
    "Example: '''\n",
    "dic = {x: x**2 for x in range(5)}\n",
    "\n",
    "print(li)\n",
    "print(se)\n",
    "print(dic)\n",
    "# This will create a new dictionary where the keys are the numbers from 0 to 4, and \n",
    "# the values are their squares.\n",
    "\n",
    "''' Python comprehensions can make your code more concise, readable, \n",
    "and efficient, especially when working with large or complex data structures. \n",
    "They are often used in data manipulation, list operations, \n",
    "and other scenarios where you need to create new collections from existing ones.\n",
    "\n",
    "   Here are a few additional points about Python comprehensions:\n",
    "\n",
    ". Comprehensions can be nested to create complex data structures.\n",
    ". Comprehensions can be used with any iterable, not just lists.\n",
    ". Comprehensions can include conditional logic using the if statement.\n",
    ". Comprehensions can be combined with other Python functions, such as map(), filter(), and lambda.\n",
    ". Overall, Python comprehensions are a powerful and versatile feature that can greatly \n",
    ". improve the readability and efficiency of your code. '''\n",
    "\n"
   ]
  },
  {
   "cell_type": "code",
   "execution_count": null,
   "metadata": {},
   "outputs": [],
   "source": [
    "# Explicit Type Conversion VS  Implicit Type Conversion:"
   ]
  },
  {
   "cell_type": "code",
   "execution_count": 2,
   "metadata": {},
   "outputs": [
    {
     "name": "stdout",
     "output_type": "stream",
     "text": [
      "10.0\n"
     ]
    }
   ],
   "source": [
    "# Explicit Type Conversion\n",
    "\n",
    "x = 10\n",
    "y = float(x)\n",
    "print(y)  # Output: 10.0"
   ]
  },
  {
   "cell_type": "code",
   "execution_count": null,
   "metadata": {},
   "outputs": [],
   "source": [
    "x = 3.14\n",
    "y = int(x)\n",
    "print(y)  # Output: 3"
   ]
  },
  {
   "cell_type": "code",
   "execution_count": 3,
   "metadata": {},
   "outputs": [
    {
     "name": "stdout",
     "output_type": "stream",
     "text": [
      "42\n"
     ]
    }
   ],
   "source": [
    "x = \"42\"\n",
    "y = int(x)\n",
    "print(y)  # Output: 42"
   ]
  },
  {
   "cell_type": "code",
   "execution_count": 4,
   "metadata": {},
   "outputs": [
    {
     "name": "stdout",
     "output_type": "stream",
     "text": [
      "3.14\n"
     ]
    }
   ],
   "source": [
    "x = \"3.14\"\n",
    "y = float(x)\n",
    "print(y)  # Output: 3.14"
   ]
  },
  {
   "cell_type": "code",
   "execution_count": 6,
   "metadata": {},
   "outputs": [
    {
     "name": "stdout",
     "output_type": "stream",
     "text": [
      "<class 'str'>\n",
      "42\n"
     ]
    }
   ],
   "source": [
    "x = 42\n",
    "y = str(x)\n",
    "print(type(y))\n",
    "print(y)  # Output: \"42\""
   ]
  },
  {
   "cell_type": "code",
   "execution_count": 8,
   "metadata": {},
   "outputs": [
    {
     "name": "stdout",
     "output_type": "stream",
     "text": [
      "<class 'str'>\n",
      "3.14\n"
     ]
    }
   ],
   "source": [
    "x = 3.14\n",
    "y = str(x)\n",
    "print(type(y))\n",
    "print(y)  # Output: \"3.14\""
   ]
  },
  {
   "cell_type": "code",
   "execution_count": 9,
   "metadata": {},
   "outputs": [
    {
     "name": "stdout",
     "output_type": "stream",
     "text": [
      "1\n",
      "0\n"
     ]
    }
   ],
   "source": [
    "x = True  # 1 or False - 0\n",
    "y = int(x)\n",
    "print(y)  # Output: 1\n",
    "\n",
    "x = False\n",
    "y = int(x)\n",
    "print(y)  # Output: 0"
   ]
  },
  {
   "cell_type": "code",
   "execution_count": 10,
   "metadata": {},
   "outputs": [
    {
     "name": "stdout",
     "output_type": "stream",
     "text": [
      "True\n",
      "False\n"
     ]
    }
   ],
   "source": [
    "x = True\n",
    "y = str(x)\n",
    "print(y)  # Output: \"True\"\n",
    "\n",
    "x = False\n",
    "y = str(x)\n",
    "print(y)  # Output: \"False\""
   ]
  },
  {
   "cell_type": "code",
   "execution_count": 11,
   "metadata": {},
   "outputs": [
    {
     "name": "stdout",
     "output_type": "stream",
     "text": [
      "<class 'int'>\n",
      "<class 'float'>\n",
      "<class 'str'>\n"
     ]
    }
   ],
   "source": [
    "x = 42\n",
    "print(type(x))  # Output: <class 'int'>\n",
    "\n",
    "y = 3.14\n",
    "print(type(y))  # Output: <class 'float'>\n",
    "\n",
    "z = \"hello\"\n",
    "print(type(z))  # Output: <class 'str'>"
   ]
  },
  {
   "cell_type": "code",
   "execution_count": 12,
   "metadata": {},
   "outputs": [
    {
     "ename": "ValueError",
     "evalue": "invalid literal for int() with base 10: 'hello'",
     "output_type": "error",
     "traceback": [
      "\u001b[1;31m---------------------------------------------------------------------------\u001b[0m",
      "\u001b[1;31mValueError\u001b[0m                                Traceback (most recent call last)",
      "Cell \u001b[1;32mIn[12], line 2\u001b[0m\n\u001b[0;32m      1\u001b[0m z \u001b[38;5;241m=\u001b[39m \u001b[38;5;124m\"\u001b[39m\u001b[38;5;124mhello\u001b[39m\u001b[38;5;124m\"\u001b[39m\n\u001b[1;32m----> 2\u001b[0m y \u001b[38;5;241m=\u001b[39m \u001b[38;5;28;43mint\u001b[39;49m\u001b[43m(\u001b[49m\u001b[43mz\u001b[49m\u001b[43m)\u001b[49m\n\u001b[0;32m      3\u001b[0m \u001b[38;5;28mprint\u001b[39m(y)\n",
      "\u001b[1;31mValueError\u001b[0m: invalid literal for int() with base 10: 'hello'"
     ]
    }
   ],
   "source": [
    "z = \"hello\"\n",
    "y = int(z)\n",
    "print(y)"
   ]
  },
  {
   "cell_type": "code",
   "execution_count": 13,
   "metadata": {},
   "outputs": [
    {
     "name": "stdout",
     "output_type": "stream",
     "text": [
      "13.14\n"
     ]
    }
   ],
   "source": [
    "# Implicit Type Conversion:\n",
    "\n",
    "x = 10\n",
    "y = 3.14\n",
    "z = x + y\n",
    "print(z)  # Output: 13.14\n",
    "\n"
   ]
  },
  {
   "cell_type": "code",
   "execution_count": 14,
   "metadata": {},
   "outputs": [
    {
     "name": "stdout",
     "output_type": "stream",
     "text": [
      "3\n"
     ]
    }
   ],
   "source": [
    "x = True  # 1\n",
    "y = 2\n",
    "z = x + y\n",
    "print(z)  # Output: 3"
   ]
  },
  {
   "cell_type": "code",
   "execution_count": 17,
   "metadata": {},
   "outputs": [
    {
     "name": "stdout",
     "output_type": "stream",
     "text": [
      "<class 'str'>\n",
      "53\n"
     ]
    }
   ],
   "source": [
    "x = \"5\"\n",
    "y = '3'\n",
    "z = str( x + y)\n",
    "print(type(z))\n",
    "print(z)  # Output: \"53\""
   ]
  },
  {
   "cell_type": "code",
   "execution_count": null,
   "metadata": {},
   "outputs": [],
   "source": [
    "''' \n",
    "Python will automatically convert the operands to the \"highest\" \n",
    "data type in the hierarchy to perform the operation.\n",
    "'''"
   ]
  },
  {
   "cell_type": "code",
   "execution_count": 16,
   "metadata": {},
   "outputs": [
    {
     "name": "stdout",
     "output_type": "stream",
     "text": [
      "1\n",
      "2\n",
      "3\n",
      "4\n",
      "5\n",
      "6\n",
      "7\n",
      "8\n",
      "9\n",
      "10\n",
      "11\n",
      "12\n",
      "13\n",
      "14\n",
      "15\n",
      "16\n",
      "17\n",
      "18\n",
      "19\n",
      "20\n",
      "21\n",
      "22\n",
      "23\n",
      "24\n",
      "25\n"
     ]
    }
   ],
   "source": [
    "# Python comprehensions\n",
    "li = [1,2,3,4,5] + [6,7,8,9,10] + [11,12,13,14,15]\\\n",
    "+ [16,17,18,19,20] + [21,22,23,24,25]\n",
    "for i in li:\n",
    "    print(i)"
   ]
  },
  {
   "cell_type": "code",
   "execution_count": 20,
   "metadata": {},
   "outputs": [
    {
     "name": "stdout",
     "output_type": "stream",
     "text": [
      "2\n",
      "4\n"
     ]
    }
   ],
   "source": [
    "for i in li:\n",
    "    if i%2==0:\n",
    "        print(i)\n",
    "    "
   ]
  },
  {
   "cell_type": "code",
   "execution_count": 21,
   "metadata": {},
   "outputs": [
    {
     "name": "stdout",
     "output_type": "stream",
     "text": [
      "4\n",
      "8\n"
     ]
    }
   ],
   "source": [
    "for i in li:\n",
    "    if i%2==0:\n",
    "        print(2*i)"
   ]
  },
  {
   "cell_type": "code",
   "execution_count": 23,
   "metadata": {},
   "outputs": [
    {
     "data": {
      "text/plain": [
       "[4, 8]"
      ]
     },
     "execution_count": 23,
     "metadata": {},
     "output_type": "execute_result"
    }
   ],
   "source": [
    "\n",
    "squ_li = [i*2 for i in li if i%2==0]\n",
    "squ_li"
   ]
  },
  {
   "cell_type": "code",
   "execution_count": null,
   "metadata": {},
   "outputs": [],
   "source": [
    "\n",
    "# print(0.1+0.2 == 0.3)\n",
    "\n",
    "# print(0.1+0.2)\n",
    "\n",
    "# print(0.3)\n",
    "\n",
    "score = round(0.1+0.2,1) == round(0.3,1)\n",
    "score = round(0.1+0.2,2) == round(0.3,2)\n",
    "score = round(0.1+0.2,16) == round(0.3,16)\n",
    "print(score)"
   ]
  },
  {
   "cell_type": "code",
   "execution_count": null,
   "metadata": {},
   "outputs": [],
   "source": [
    "x = 6 \n",
    "if x>5:\n",
    "    print('yes')\n",
    "else:\n",
    "    print('no')"
   ]
  },
  {
   "cell_type": "code",
   "execution_count": 16,
   "metadata": {},
   "outputs": [
    {
     "name": "stdout",
     "output_type": "stream",
     "text": [
      "yes\n",
      "yes\n",
      "True\n"
     ]
    }
   ],
   "source": [
    "# Ternary Operators in Python .......\n",
    "x = 6\n",
    "print('yes') if x > 5 else print('no')\n",
    "# This is a ternary operator. It checks the condition 'x>5'.\n",
    "# If it is true, it prints 'yes'. Otherwise, it prints 'no'.\n",
    "def check_age(age):\n",
    "    return 'yes' if age > 18 else 'no'\n",
    "# Function to check whether an age is greater than 18 or not.\n",
    "def is_adult(age):\n",
    "    \"\"\"Function to check whether an age is greater than 18 or not.\"\"\"\n",
    "    return True if age > 18 else False  # Return True if age is greater than 18, False otherwise.\n",
    "\n",
    "# Testing the function with different ages.\n",
    "print(check_age(20))   # Output: yes\n",
    "print(is_adult(30))   # Output: True"
   ]
  },
  {
   "cell_type": "code",
   "execution_count": 25,
   "metadata": {},
   "outputs": [
    {
     "name": "stdout",
     "output_type": "stream",
     "text": [
      "world-jroshan\n",
      "technologies\n"
     ]
    }
   ],
   "source": [
    "e = 'technologies'\n",
    "\n",
    "def f(a):\n",
    "    print(a+e) \n",
    "    \n",
    "f('world-jroshan\\n')\n"
   ]
  },
  {
   "cell_type": "code",
   "execution_count": 19,
   "metadata": {},
   "outputs": [
    {
     "name": "stdout",
     "output_type": "stream",
     "text": [
      "[1, 2, 3, [4, 5]]\n"
     ]
    },
    {
     "data": {
      "text/plain": [
       "[1, 2, 3, [4, 5]]"
      ]
     },
     "execution_count": 19,
     "metadata": {},
     "output_type": "execute_result"
    }
   ],
   "source": [
    "a = [1,2,3] ; b= [4,5]\n",
    "\n",
    "#a.extend(b)\n",
    "a.append(b)\n",
    "print(a)\n",
    "\n",
    "[1, 2, 3, [4, 5]]"
   ]
  },
  {
   "cell_type": "code",
   "execution_count": 2,
   "metadata": {},
   "outputs": [
    {
     "ename": "ValueError",
     "evalue": "value_name (sales) cannot match an element in the DataFrame columns.",
     "output_type": "error",
     "traceback": [
      "\u001b[1;31m---------------------------------------------------------------------------\u001b[0m",
      "\u001b[1;31mValueError\u001b[0m                                Traceback (most recent call last)",
      "Cell \u001b[1;32mIn[2], line 18\u001b[0m\n\u001b[0;32m      9\u001b[0m     \u001b[38;5;28;01mreturn\u001b[39;00m output\n\u001b[0;32m     12\u001b[0m data \u001b[38;5;241m=\u001b[39m {\n\u001b[0;32m     13\u001b[0m     \u001b[38;5;124m'\u001b[39m\u001b[38;5;124mproduct\u001b[39m\u001b[38;5;124m'\u001b[39m: [\u001b[38;5;124m'\u001b[39m\u001b[38;5;124mProduct A\u001b[39m\u001b[38;5;124m'\u001b[39m, \u001b[38;5;124m'\u001b[39m\u001b[38;5;124mProduct A\u001b[39m\u001b[38;5;124m'\u001b[39m, \u001b[38;5;124m'\u001b[39m\u001b[38;5;124mProduct A\u001b[39m\u001b[38;5;124m'\u001b[39m, \u001b[38;5;124m'\u001b[39m\u001b[38;5;124mProduct A\u001b[39m\u001b[38;5;124m'\u001b[39m, \u001b[38;5;124m'\u001b[39m\u001b[38;5;124mProduct B\u001b[39m\u001b[38;5;124m'\u001b[39m, \u001b[38;5;124m'\u001b[39m\u001b[38;5;124mProduct B\u001b[39m\u001b[38;5;124m'\u001b[39m, \u001b[38;5;124m'\u001b[39m\u001b[38;5;124mProduct B\u001b[39m\u001b[38;5;124m'\u001b[39m, \u001b[38;5;124m'\u001b[39m\u001b[38;5;124mProduct B\u001b[39m\u001b[38;5;124m'\u001b[39m],\n\u001b[0;32m     14\u001b[0m     \u001b[38;5;124m'\u001b[39m\u001b[38;5;124mquarter\u001b[39m\u001b[38;5;124m'\u001b[39m: [\u001b[38;5;124m'\u001b[39m\u001b[38;5;124mQ1\u001b[39m\u001b[38;5;124m'\u001b[39m, \u001b[38;5;124m'\u001b[39m\u001b[38;5;124mQ2\u001b[39m\u001b[38;5;124m'\u001b[39m, \u001b[38;5;124m'\u001b[39m\u001b[38;5;124mQ3\u001b[39m\u001b[38;5;124m'\u001b[39m, \u001b[38;5;124m'\u001b[39m\u001b[38;5;124mQ4\u001b[39m\u001b[38;5;124m'\u001b[39m, \u001b[38;5;124m'\u001b[39m\u001b[38;5;124mQ1\u001b[39m\u001b[38;5;124m'\u001b[39m, \u001b[38;5;124m'\u001b[39m\u001b[38;5;124mQ2\u001b[39m\u001b[38;5;124m'\u001b[39m, \u001b[38;5;124m'\u001b[39m\u001b[38;5;124mQ3\u001b[39m\u001b[38;5;124m'\u001b[39m, \u001b[38;5;124m'\u001b[39m\u001b[38;5;124mQ4\u001b[39m\u001b[38;5;124m'\u001b[39m],\n\u001b[0;32m     15\u001b[0m     \u001b[38;5;124m'\u001b[39m\u001b[38;5;124msales\u001b[39m\u001b[38;5;124m'\u001b[39m: [\u001b[38;5;241m100\u001b[39m, \u001b[38;5;241m120\u001b[39m, \u001b[38;5;241m110\u001b[39m, \u001b[38;5;241m150\u001b[39m, \u001b[38;5;241m80\u001b[39m, \u001b[38;5;241m90\u001b[39m, \u001b[38;5;241m85\u001b[39m, \u001b[38;5;241m95\u001b[39m]\n\u001b[0;32m     16\u001b[0m }\n\u001b[1;32m---> 18\u001b[0m \u001b[38;5;28mprint\u001b[39m(\u001b[43mmeltTable\u001b[49m\u001b[43m(\u001b[49m\u001b[43mdata\u001b[49m\u001b[43m)\u001b[49m)\n",
      "Cell \u001b[1;32mIn[2], line 8\u001b[0m, in \u001b[0;36mmeltTable\u001b[1;34m(report)\u001b[0m\n\u001b[0;32m      4\u001b[0m df \u001b[38;5;241m=\u001b[39m  pd\u001b[38;5;241m.\u001b[39mDataFrame(report)\n\u001b[0;32m      5\u001b[0m \u001b[38;5;66;03m#output = df.pivot_table(index='product', columns='quarter', values='sales', aggfunc='sum')\u001b[39;00m\n\u001b[0;32m      6\u001b[0m \u001b[38;5;66;03m# df.pivot(index='product', columns='quarter', values='sales').reset_index()\u001b[39;00m\n\u001b[0;32m      7\u001b[0m \u001b[38;5;66;03m# output = output.fillna(0)\u001b[39;00m\n\u001b[1;32m----> 8\u001b[0m output \u001b[38;5;241m=\u001b[39m \u001b[43mpd\u001b[49m\u001b[38;5;241;43m.\u001b[39;49m\u001b[43mmelt\u001b[49m\u001b[43m(\u001b[49m\u001b[43mdf\u001b[49m\u001b[43m,\u001b[49m\u001b[43mid_vars\u001b[49m\u001b[38;5;241;43m=\u001b[39;49m\u001b[43m[\u001b[49m\u001b[38;5;124;43m'\u001b[39;49m\u001b[38;5;124;43mproduct\u001b[39;49m\u001b[38;5;124;43m'\u001b[39;49m\u001b[43m]\u001b[49m\u001b[43m,\u001b[49m\u001b[43m \u001b[49m\u001b[43mvar_name\u001b[49m\u001b[38;5;241;43m=\u001b[39;49m\u001b[38;5;124;43m'\u001b[39;49m\u001b[38;5;124;43mquarter\u001b[39;49m\u001b[38;5;124;43m'\u001b[39;49m\u001b[43m,\u001b[49m\u001b[43m \u001b[49m\u001b[43mvalue_name\u001b[49m\u001b[38;5;241;43m=\u001b[39;49m\u001b[38;5;124;43m'\u001b[39;49m\u001b[38;5;124;43msales\u001b[39;49m\u001b[38;5;124;43m'\u001b[39;49m\u001b[43m)\u001b[49m\n\u001b[0;32m      9\u001b[0m \u001b[38;5;28;01mreturn\u001b[39;00m output\n",
      "File \u001b[1;32mc:\\Users\\DELL\\AppData\\Local\\Programs\\Python\\Python312\\Lib\\site-packages\\pandas\\core\\reshape\\melt.py:52\u001b[0m, in \u001b[0;36mmelt\u001b[1;34m(frame, id_vars, value_vars, var_name, value_name, col_level, ignore_index)\u001b[0m\n\u001b[0;32m     49\u001b[0m     cols \u001b[38;5;241m=\u001b[39m \u001b[38;5;28mlist\u001b[39m(frame\u001b[38;5;241m.\u001b[39mcolumns)\n\u001b[0;32m     51\u001b[0m \u001b[38;5;28;01mif\u001b[39;00m value_name \u001b[38;5;129;01min\u001b[39;00m frame\u001b[38;5;241m.\u001b[39mcolumns:\n\u001b[1;32m---> 52\u001b[0m     \u001b[38;5;28;01mraise\u001b[39;00m \u001b[38;5;167;01mValueError\u001b[39;00m(\n\u001b[0;32m     53\u001b[0m         \u001b[38;5;124mf\u001b[39m\u001b[38;5;124m\"\u001b[39m\u001b[38;5;124mvalue_name (\u001b[39m\u001b[38;5;132;01m{\u001b[39;00mvalue_name\u001b[38;5;132;01m}\u001b[39;00m\u001b[38;5;124m) cannot match an element in \u001b[39m\u001b[38;5;124m\"\u001b[39m\n\u001b[0;32m     54\u001b[0m         \u001b[38;5;124m\"\u001b[39m\u001b[38;5;124mthe DataFrame columns.\u001b[39m\u001b[38;5;124m\"\u001b[39m\n\u001b[0;32m     55\u001b[0m     )\n\u001b[0;32m     57\u001b[0m \u001b[38;5;28;01mif\u001b[39;00m id_vars \u001b[38;5;129;01mis\u001b[39;00m \u001b[38;5;129;01mnot\u001b[39;00m \u001b[38;5;28;01mNone\u001b[39;00m:\n\u001b[0;32m     58\u001b[0m     \u001b[38;5;28;01mif\u001b[39;00m \u001b[38;5;129;01mnot\u001b[39;00m is_list_like(id_vars):\n",
      "\u001b[1;31mValueError\u001b[0m: value_name (sales) cannot match an element in the DataFrame columns."
     ]
    }
   ],
   "source": [
    "import pandas as pd\n",
    "\n",
    "def meltTable(report: pd.DataFrame) -> pd.DataFrame:\n",
    "    df =  pd.DataFrame(report)\n",
    "    #output = df.pivot_table(index='product', columns='quarter', values='sales', aggfunc='sum')\n",
    "    # df.pivot(index='product', columns='quarter', values='sales').reset_index()\n",
    "    # output = output.fillna(0)\n",
    "    output = pd.melt(df,id_vars=['product'], var_name='quarter', value_name='sales')\n",
    "    return output\n",
    "    \n",
    "\n",
    "data = {\n",
    "    'product': ['Product A', 'Product A', 'Product A', 'Product A', 'Product B', 'Product B', 'Product B', 'Product B'],\n",
    "    'quarter': ['Q1', 'Q2', 'Q3', 'Q4', 'Q1', 'Q2', 'Q3', 'Q4'],\n",
    "    'sales': [100, 120, 110, 150, 80, 90, 85, 95]\n",
    "}\n",
    "\n",
    "print(meltTable(data))"
   ]
  },
  {
   "cell_type": "code",
   "execution_count": 3,
   "metadata": {},
   "outputs": [
    {
     "name": "stdout",
     "output_type": "stream",
     "text": [
      "   Product Quarter  Sales\n",
      "0        A      Q1    100\n",
      "1        B      Q1    200\n",
      "2        C      Q1    300\n",
      "3        A      Q2    150\n",
      "4        B      Q2    250\n",
      "5        C      Q2    350\n",
      "6        A      Q3    200\n",
      "7        B      Q3    300\n",
      "8        C      Q3    400\n",
      "9        A      Q4    250\n",
      "10       B      Q4    350\n",
      "11       C      Q4    450\n"
     ]
    }
   ],
   "source": [
    "import pandas as pd\n",
    "\n",
    "# Sample data (replace with your actual data)\n",
    "data = {\n",
    "    'Product': ['A', 'B', 'C'],\n",
    "    'Q1': [100, 200, 300],\n",
    "    'Q2': [150, 250, 350],\n",
    "    'Q3': [200, 300, 400],\n",
    "    'Q4': [250, 350, 450]\n",
    "}\n",
    "\n",
    "df = pd.DataFrame(data)\n",
    "\n",
    "# Reshape data using melt\n",
    "df_reshaped = df.melt(id_vars='Product', var_name='Quarter', value_name='Sales')\n",
    "\n",
    "print(df_reshaped)"
   ]
  },
  {
   "cell_type": "code",
   "execution_count": 4,
   "metadata": {},
   "outputs": [
    {
     "name": "stdout",
     "output_type": "stream",
     "text": [
      "Original DataFrame:\n",
      "     product quarter  sales\n",
      "0  Product A      Q1    100\n",
      "1  Product A      Q2    120\n",
      "2  Product A      Q3    110\n",
      "3  Product A      Q4    150\n",
      "4  Product B      Q1     80\n",
      "5  Product B      Q2     90\n",
      "6  Product B      Q3     85\n",
      "7  Product B      Q4     95\n",
      "\n",
      "Reshaped DataFrame:\n",
      "quarter     Q1   Q2   Q3   Q4\n",
      "product                      \n",
      "Product A  100  120  110  150\n",
      "Product B   80   90   85   95\n"
     ]
    }
   ],
   "source": [
    "import pandas as pd\n",
    "\n",
    "# Create a sample DataFrame\n",
    "data = {\n",
    "    'product': ['Product A', 'Product A', 'Product A', 'Product A', 'Product B', 'Product B', 'Product B', 'Product B'],\n",
    "    'quarter': ['Q1', 'Q2', 'Q3', 'Q4', 'Q1', 'Q2', 'Q3', 'Q4'],\n",
    "    'sales': [100, 120, 110, 150, 80, 90, 85, 95]\n",
    "}\n",
    "\n",
    "df = pd.DataFrame(data)\n",
    "\n",
    "# Reshape the DataFrame using pivot_table\n",
    "reshaped_df = df.pivot_table(index='product', columns='quarter', values='sales', aggfunc='sum')\n",
    "\n",
    "print(\"Original DataFrame:\")\n",
    "print(df)\n",
    "\n",
    "print(\"\\nReshaped DataFrame:\")\n",
    "print(reshaped_df)"
   ]
  },
  {
   "cell_type": "code",
   "execution_count": 6,
   "metadata": {},
   "outputs": [
    {
     "name": "stdout",
     "output_type": "stream",
     "text": [
      "Original DataFrame:\n",
      "     product quarter  sales\n",
      "0  Product A      Q1    100\n",
      "1  Product A      Q2    120\n",
      "2  Product A      Q3    110\n",
      "3  Product A      Q4    150\n",
      "4  Product B      Q1     80\n",
      "5  Product B      Q2     90\n",
      "6  Product B      Q3     85\n",
      "7  Product B      Q4     95\n",
      "\n",
      "Reshaped DataFrame:\n",
      "quarter     Q1   Q2   Q3   Q4\n",
      "product                      \n",
      "Product A  100  120  110  150\n",
      "Product B   80   90   85   95\n"
     ]
    }
   ],
   "source": [
    "import pandas as pd\n",
    "\n",
    "# Create a sample DataFrame\n",
    "data = {\n",
    "    'product': ['Product A', 'Product A', 'Product A', 'Product A', 'Product B', 'Product B', 'Product B', 'Product B'],\n",
    "    'quarter': ['Q1', 'Q2', 'Q3', 'Q4', 'Q1', 'Q2', 'Q3', 'Q4'],\n",
    "    'sales': [100, 120, 110, 150, 80, 90, 85, 95]\n",
    "}\n",
    "\n",
    "df = pd.DataFrame(data)\n",
    "\n",
    "# Reshape the DataFrame\n",
    "reshaped_df = df.pivot(index='product', columns='quarter', values='sales')\n",
    "\n",
    "print(\"Original DataFrame:\")\n",
    "print(df)\n",
    "\n",
    "print(\"\\nReshaped DataFrame:\")\n",
    "print(reshaped_df)"
   ]
  },
  {
   "cell_type": "code",
   "execution_count": 5,
   "metadata": {},
   "outputs": [
    {
     "name": "stdout",
     "output_type": "stream",
     "text": [
      "Quarter Product   Q1   Q2   Q3\n",
      "0             A  100  200  300\n",
      "1             B  150  250  350\n"
     ]
    }
   ],
   "source": [
    "import pandas as pd\n",
    "\n",
    "# Sample data\n",
    "data = {\n",
    "    'Product': ['A', 'B', 'A', 'B', 'A', 'B'],\n",
    "    'Quarter': ['Q1', 'Q1', 'Q2', 'Q2', 'Q3', 'Q3'],\n",
    "    'Sales': [100, 150, 200, 250, 300, 350]\n",
    "}\n",
    "\n",
    "# Create DataFrame\n",
    "df = pd.DataFrame(data)\n",
    "\n",
    "# Reshape data using pivot\n",
    "reshaped_df = df.pivot(index='Product', columns='Quarter', values='Sales').reset_index()\n",
    "\n",
    "# Fill missing values with 0\n",
    "reshaped_df = reshaped_df.fillna(0)\n",
    "\n",
    "# Display reshaped data\n",
    "print(reshaped_df)\n"
   ]
  },
  {
   "cell_type": "code",
   "execution_count": 7,
   "metadata": {},
   "outputs": [
    {
     "name": "stdout",
     "output_type": "stream",
     "text": [
      "Elephant\n",
      "Bear\n",
      "Lion\n",
      "Tiger\n"
     ]
    }
   ],
   "source": [
    "animals = {\n",
    "    \"Elephant\": 4000,\n",
    "    \"Lion\": 190,\n",
    "    \"Tiger\": 180,\n",
    "    \"Bear\": 340,\n",
    "    \"Chimpanzee\": 70\n",
    "}\n",
    "\n",
    "# Filter animals with weight > 100\n",
    "heavy_animals = {name: weight for name, weight in animals.items() if weight > 100}\n",
    "\n",
    "# Sort animals by weight in descending order\n",
    "sorted_animals = sorted(heavy_animals.items(), key=lambda item: item[1], reverse=True)\n",
    "\n",
    "# Print animal names\n",
    "for name, _ in sorted_animals:\n",
    "    print(name)"
   ]
  },
  {
   "cell_type": "code",
   "execution_count": 8,
   "metadata": {},
   "outputs": [
    {
     "name": "stdout",
     "output_type": "stream",
     "text": [
      "['African Bush Elephant', 'Asian Elephant', 'White Rhinoceros', 'Indian Rhinoceros', 'Hippopotamus', 'Giraffe', 'African Buffalo', 'Dromedary Camel', 'Polar Bear', 'Giant Panda']\n"
     ]
    }
   ],
   "source": [
    "animals = [\n",
    "    {\"name\": \"Asian Elephant\", \"weight\": 5400},\n",
    "    {\"name\": \"African Bush Elephant\", \"weight\": 6000},\n",
    "    {\"name\": \"White Rhinoceros\", \"weight\": 3600},\n",
    "    {\"name\": \"Indian Rhinoceros\", \"weight\": 2200},\n",
    "    {\"name\": \"Hippopotamus\", \"weight\": 1500},\n",
    "    {\"name\": \"Giraffe\", \"weight\": 900},\n",
    "    {\"name\": \"African Buffalo\", \"weight\": 550},\n",
    "    {\"name\": \"Dromedary Camel\", \"weight\": 500},\n",
    "    {\"name\": \"Giant Panda\", \"weight\": 150},\n",
    "    {\"name\": \"Polar Bear\", \"weight\": 450},\n",
    "]\n",
    "\n",
    "heavy_animals = sorted([animal for animal in animals if animal[\"weight\"] > 100], key=lambda x: x[\"weight\"], reverse=True)\n",
    "\n",
    "print([animal[\"name\"] for animal in heavy_animals])"
   ]
  },
  {
   "cell_type": "code",
   "execution_count": null,
   "metadata": {},
   "outputs": [],
   "source": []
  },
  {
   "cell_type": "code",
   "execution_count": null,
   "metadata": {},
   "outputs": [],
   "source": [
    "''''\n",
    "Given an integer,n , perform the following conditional actions:\n",
    "\n",
    "If n is odd, print Weird\n",
    "If n is even and in the inclusive range of 2 to 5, print Not Weird\n",
    "If n is even and in the inclusive range of 6 to 20, print Weird\n",
    "If n is even and greater than 20, print Not Weird\n",
    "\n",
    "'''"
   ]
  },
  {
   "cell_type": "code",
   "execution_count": 8,
   "metadata": {},
   "outputs": [
    {
     "name": "stdout",
     "output_type": "stream",
     "text": [
      "Not Weird\n"
     ]
    }
   ],
   "source": [
    "# #!/bin/python3\n",
    "\n",
    "# import math\n",
    "# import os\n",
    "# import random\n",
    "# import re\n",
    "# import sys\n",
    "\n",
    "\n",
    "\n",
    "if __name__ == '__main__':\n",
    "    n = int(input().strip())\n",
    "    \n",
    "    if n % 2 != 0: \n",
    "        print('Weird')\n",
    "    else:\n",
    "        if n>=2 and n<=5:\n",
    "            print('Not Weird')\n",
    "        elif n >=6 and n<=20:\n",
    "            print('Weird')\n",
    "        else:\n",
    "            print('Not Weird')\n",
    "\n"
   ]
  },
  {
   "cell_type": "code",
   "execution_count": null,
   "metadata": {},
   "outputs": [],
   "source": [
    "''' The included code stub will read an integer, n, from STDIN.\n",
    "Without using any string methods, try to print the following:\n",
    "for n = 6\n",
    "and output 123456 '''"
   ]
  },
  {
   "cell_type": "code",
   "execution_count": 7,
   "metadata": {},
   "outputs": [
    {
     "name": "stdout",
     "output_type": "stream",
     "text": [
      "12345678\n"
     ]
    }
   ],
   "source": [
    "if __name__ == '__main__':\n",
    "    n = int(input())\n",
    "    \n",
    "    new_str = ''\n",
    "    for i in range(1,n+1):\n",
    "        new_str = new_str + str(i)\n",
    "    \n",
    "    print(new_str)\n",
    "        "
   ]
  },
  {
   "cell_type": "code",
   "execution_count": null,
   "metadata": {},
   "outputs": [],
   "source": [
    "'''  \n",
    "The provided code stub reads two integers, a and b , from STDIN.\n",
    "\n",
    "Example\n",
    "a = 3 \n",
    "b = 5\n",
    "Print the result of integer division a//b\n",
    "Print the result of float division a/b\n",
    "\n",
    "Output Format:\n",
    "\n",
    "The result of the integer division  3// 5 = 0\n",
    "The result of the float division is  3/5 =0.6\n",
    "'''"
   ]
  },
  {
   "cell_type": "code",
   "execution_count": 3,
   "metadata": {},
   "outputs": [
    {
     "name": "stdout",
     "output_type": "stream",
     "text": [
      "0\n",
      "0.6\n"
     ]
    }
   ],
   "source": [
    "print(3//5)\n",
    "print(3/5)"
   ]
  },
  {
   "cell_type": "code",
   "execution_count": 1,
   "metadata": {},
   "outputs": [
    {
     "name": "stdout",
     "output_type": "stream",
     "text": [
      "3\n",
      "2\n"
     ]
    }
   ],
   "source": [
    "print(3%5)\n",
    "print(5%3)"
   ]
  },
  {
   "cell_type": "code",
   "execution_count": null,
   "metadata": {},
   "outputs": [],
   "source": [
    "'''  \n",
    "Let's learn about list comprehensions! You are given three integers x,y and z representing\n",
    "the dimensions of a cuboid along with an integer n . \n",
    "Print a list of all possible coordinates given by (i,j,k) on a 3D grid \n",
    "where the sum of (i+j+k) is not equal to n. Here, .\n",
    "Please use list comprehensions rather than multiple loops,\n",
    "'''"
   ]
  },
  {
   "cell_type": "code",
   "execution_count": 14,
   "metadata": {},
   "outputs": [
    {
     "name": "stdout",
     "output_type": "stream",
     "text": [
      "[[0, 0, 0], [0, 0, 1], [0, 0, 3], [0, 0, 4], [0, 0, 5], [0, 1, 0], [0, 1, 2], [0, 1, 3], [0, 1, 4], [0, 1, 5], [0, 2, 1], [0, 2, 2], [0, 2, 3], [0, 2, 4], [0, 2, 5], [0, 3, 0], [0, 3, 1], [0, 3, 2], [0, 3, 3], [0, 3, 4], [0, 3, 5], [1, 0, 0], [1, 0, 2], [1, 0, 3], [1, 0, 4], [1, 0, 5], [1, 1, 1], [1, 1, 2], [1, 1, 3], [1, 1, 4], [1, 1, 5], [1, 2, 0], [1, 2, 1], [1, 2, 2], [1, 2, 3], [1, 2, 4], [1, 2, 5], [1, 3, 0], [1, 3, 1], [1, 3, 2], [1, 3, 3], [1, 3, 4], [1, 3, 5]]\n"
     ]
    }
   ],
   "source": [
    "if __name__ == '__main__':\n",
    "    x = int(input())\n",
    "    y = int(input())\n",
    "    z = int(input())\n",
    "    n = int(input())\n",
    "    '''\n",
    "    x, y, z (representing the dimensions of the cuboid), \n",
    "    and n (the value for which we don't want the sum of coordinates to be equal \n",
    "    \n",
    "    '''\n",
    "    output =[\n",
    "        [i,j,k]\n",
    "        for i in range(x+1)\n",
    "        for j in range(y+1)\n",
    "        for k in range(z+1)\n",
    "        if i+j+k !=n\n",
    "    ]\n",
    "    \n",
    "    '''   \n",
    "The outer loop for i in range(x + 1) iterates over the values from 0 to x (inclusive).\n",
    "The middle loop for j in range(y + 1) iterates over the values from 0 to y (inclusive).\n",
    "The inner loop for k in range(z + 1) iterates over the values from 0 to z (inclusive).\n",
    "The if condition if i + j + k != n filters out the coordinates where the sum of the \n",
    "coordinates is equal to n.\n",
    "For each combination of i, j, and k that satisfies the condition, \n",
    "we create a list [i, j, k] representing the coordinates.\n",
    "    '''\n",
    "    print(output)"
   ]
  },
  {
   "cell_type": "code",
   "execution_count": 3,
   "metadata": {},
   "outputs": [
    {
     "name": "stdout",
     "output_type": "stream",
     "text": [
      "[[0, 0, 0], [0, 0, 1], [0, 0, 2], [0, 0, 3], [0, 0, 4], [0, 1, 0], [0, 1, 1], [0, 1, 2], [0, 1, 3], [0, 2, 0], [0, 2, 1], [0, 2, 2], [0, 2, 4], [0, 3, 0], [0, 3, 1], [0, 3, 3], [0, 3, 4], [1, 0, 0], [1, 0, 1], [1, 0, 2], [1, 0, 3], [1, 1, 0], [1, 1, 1], [1, 1, 2], [1, 1, 4], [1, 2, 0], [1, 2, 1], [1, 2, 3], [1, 2, 4], [1, 3, 0], [1, 3, 2], [1, 3, 3], [1, 3, 4], [2, 0, 0], [2, 0, 1], [2, 0, 2], [2, 0, 4], [2, 1, 0], [2, 1, 1], [2, 1, 3], [2, 1, 4], [2, 2, 0], [2, 2, 2], [2, 2, 3], [2, 2, 4], [2, 3, 1], [2, 3, 2], [2, 3, 3], [2, 3, 4]]\n"
     ]
    }
   ],
   "source": [
    "if __name__ == '__main__':\n",
    "    x = int(input())\n",
    "    y = int(input())\n",
    "    z = int(input())\n",
    "    n = int(input())\n",
    "    output =[\n",
    "        [i,j,k]\n",
    "        for i in range(x+1)\n",
    "        for j in range(y+1)\n",
    "        for k in range(z+1)\n",
    "        if i+j+k !=n\n",
    "    ]\n",
    "    print(output)"
   ]
  },
  {
   "cell_type": "code",
   "execution_count": null,
   "metadata": {},
   "outputs": [],
   "source": []
  },
  {
   "cell_type": "code",
   "execution_count": null,
   "metadata": {},
   "outputs": [],
   "source": []
  },
  {
   "cell_type": "code",
   "execution_count": 11,
   "metadata": {},
   "outputs": [],
   "source": [
    "        # 0   1   2   3   4    5    6   7   8\n",
    "         \n",
    "li_val = [23, 45, 76, 87, '12', 65, 98, 23, 65]  \n",
    "\n",
    "        # -9  -8  -7  -6  -5   -4   -3  -2  -1\n",
    "         \n",
    "# print(len(li_val))\n",
    "# length = len(li_val)\n",
    "# print((li_val[length - 3]))\n",
    "# print(li_val[:: -1])"
   ]
  },
  {
   "cell_type": "code",
   "execution_count": null,
   "metadata": {},
   "outputs": [],
   "source": []
  },
  {
   "cell_type": "code",
   "execution_count": null,
   "metadata": {},
   "outputs": [],
   "source": [
    "         # 0    1      2     3     4       5\n",
    "         \n",
    "li_val = [34,'apple',True,False,'binary',23.56]\n",
    "\n",
    "         # -6   -5    -4    -3    -2      -1"
   ]
  },
  {
   "cell_type": "markdown",
   "metadata": {},
   "source": []
  },
  {
   "cell_type": "code",
   "execution_count": null,
   "metadata": {},
   "outputs": [],
   "source": []
  },
  {
   "cell_type": "code",
   "execution_count": null,
   "metadata": {},
   "outputs": [],
   "source": []
  },
  {
   "cell_type": "code",
   "execution_count": null,
   "metadata": {},
   "outputs": [],
   "source": []
  },
  {
   "cell_type": "code",
   "execution_count": null,
   "metadata": {},
   "outputs": [],
   "source": []
  },
  {
   "cell_type": "code",
   "execution_count": null,
   "metadata": {},
   "outputs": [],
   "source": [
    "'''   \n",
    "Consider a list (list = []). You can perform the following commands:\n",
    "\n",
    "insert i e: Insert integer  at position .\n",
    "print: Print the list.\n",
    "remove e: Delete the first occurrence of integer .\n",
    "append e: Insert integer  at the end of the list.\n",
    "sort: Sort the list.\n",
    "pop: Pop the last element from the list.\n",
    "reverse: Reverse the list.\n",
    "\n",
    "'''"
   ]
  },
  {
   "cell_type": "code",
   "execution_count": 2,
   "metadata": {},
   "outputs": [
    {
     "data": {
      "text/plain": [
       "[65, 23, 23]"
      ]
     },
     "execution_count": 2,
     "metadata": {},
     "output_type": "execute_result"
    }
   ],
   "source": [
    "# li =[]\n",
    "# li.insert(1,12)\n",
    "# print(li)\n",
    "# li.remove(12)\n",
    "# print(li)\n",
    "\n",
    "# li.append(101)\n",
    "\n",
    "# print(li)\n",
    "\n",
    "li1 = [23,65,75,23]\n",
    "li1.sort()\n",
    "li1\n",
    "\n",
    "li1.pop()\n",
    "\n",
    "li1.sort(reverse=True)\n",
    "\n",
    "li1\n",
    "\n",
    "##   \n",
    "def insert(list, i, e):\n",
    "    list.insert(i, e)\n",
    "\n",
    "def print_list(list):\n",
    "    print(list)\n",
    "\n",
    "def remove_element(list, e):\n",
    "    try:\n",
    "        list.remove(e)\n",
    "    except ValueError:\n",
    "        print(f\"Element {e} is not present in the list.\")\n",
    "\n",
    "def append_element(list, e):\n",
    "    list.append(e)\n",
    "\n",
    "def sort_list(list):\n",
    "    list.sort()\n",
    "\n",
    "def pop_element(list):\n",
    "    try:\n",
    "        popped_element = list.pop()\n",
    "        print(f\"Popped element: {popped_element}\")\n",
    "    except IndexError:\n",
    "        print(\"The list is empty.\")\n",
    "\n",
    "def reverse_list(list):\n",
    "    list.reverse()\n",
    "\n",
    "def main():\n",
    "    list = []\n",
    "    while True:\n",
    "        command = input(\"Enter a command (insert, print, remove, append, sort, pop, reverse, or quit): \").lower()\n",
    "        if command == \"quit\":\n",
    "            break\n",
    "        elif command == \"insert\":\n",
    "            i = int(input(\"Enter the position: \"))\n",
    "            e = int(input(\"Enter the element: \"))\n",
    "            insert(list, i, e)\n",
    "        elif command == \"print\":\n",
    "            print_list(list)\n",
    "        elif command == \"remove\":\n",
    "            e = int(input(\"Enter the element to remove: \"))\n",
    "            remove_element(list, e)\n",
    "        elif command == \"append\":\n",
    "            e = int(input(\"Enter the element: \"))\n",
    "            append_element(list, e)\n",
    "        elif command == \"sort\":\n",
    "            sort_list(list)\n",
    "        elif command == \"pop\":\n",
    "            pop_element(list)\n",
    "        elif command == \"reverse\":\n",
    "            reverse_list(list)\n",
    "        else:\n",
    "            print(\"Invalid command. Please try again.\")\n",
    "\n",
    "if __name__ == \"__main__\":\n",
    "    main()\n"
   ]
  },
  {
   "cell_type": "code",
   "execution_count": null,
   "metadata": {},
   "outputs": [],
   "source": [
    "'''  \n",
    "Given the names and grades for each student in a class of  students, store them in a nested list and print the name(s) of any student(s) having the second lowest grade.\n",
    "\n",
    "Note: If there are multiple students with the second lowest grade, order their names alphabetically and print each name on a new line.\n",
    "'''"
   ]
  },
  {
   "cell_type": "code",
   "execution_count": 2,
   "metadata": {},
   "outputs": [
    {
     "name": "stdout",
     "output_type": "stream",
     "text": [
      "karan\n"
     ]
    }
   ],
   "source": [
    "if __name__ == '__main__':\n",
    "    # Creating a nested list to store student names and grades\n",
    "    students = []\n",
    "    n = int(input())\n",
    "    # Getting input for student names and grades\n",
    "    for i in range(n):\n",
    "        name = input()\n",
    "        score = float(input())\n",
    "        students.append([name, score])\n",
    "        \n",
    "        # Sort the list by grade\n",
    "sorted_records = sorted(students, key=lambda x: x[1])\n",
    "#students.sort(key=lambda x: x[1])\n",
    "\n",
    "# Find the second lowest grade\n",
    "second_lowest_grade = sorted_records[1][1]\n",
    "#second_lowest_grade = sorted(set([student[1] for student in students]))[1]\n",
    "\n",
    "# Getting the names of students with the second lowest grade\n",
    "second_lowest_students = [student[0] for student in students if student[1] == second_lowest_grade]\n",
    "#students_with_second_lowest_grade = [record[0] for record in sorted_records if record[1] == second_lowest_grade]\n",
    "\n",
    "\n",
    "# Sorting the names alphabetically\n",
    "second_lowest_students.sort()\n",
    "\n",
    "    # Printing the names of students with the second lowest grade\n",
    "for name in second_lowest_students:\n",
    "    print(name)\n",
    "    "
   ]
  },
  {
   "cell_type": "code",
   "execution_count": 11,
   "metadata": {},
   "outputs": [
    {
     "name": "stdout",
     "output_type": "stream",
     "text": [
      "c\n"
     ]
    }
   ],
   "source": [
    "students = []\n",
    "n = 3\n",
    "n = int(input())\n",
    "# Getting input for student names and grades\n",
    "for i in range(n):\n",
    "    name = input()\n",
    "    score = float(input())\n",
    "    students.append([name, score])\n",
    "    \n",
    "#sort_val = sorted(students,key=lambda x:x[1])\n",
    "\n",
    "grades = [student[1] for student in students]\n",
    "\n",
    "grades.sort()\n",
    "\n",
    "grades = grades[1]\n",
    "second_lowest_students = [student[0] for student in students if student[1] == grades]\n",
    "\n",
    "second_lowest_students.sort()\n",
    "\n",
    "    # Printing the names of students with the second lowest grade\n",
    "for name in second_lowest_students:\n",
    "    print(name)"
   ]
  },
  {
   "cell_type": "code",
   "execution_count": null,
   "metadata": {},
   "outputs": [],
   "source": [
    "if __name__ == '__main__':\n",
    "    # Number of students\n",
    "    n = int(input())\n",
    "\n",
    "    # Creating a nested list to store student names and grades\n",
    "    students = []\n",
    "\n",
    "    # Getting input for student names and grades\n",
    "    for _ in range(n):\n",
    "        name = input()\n",
    "        score = float(input())\n",
    "        students.append([name, score])\n",
    "\n",
    "    # Sorting the list based on grades\n",
    "    students.sort(key=lambda x: x[1])\n",
    "\n",
    "    # Finding the second lowest grade\n",
    "    second_lowest_grade = sorted(set([student[1] for student in students]))[1]\n",
    "\n",
    "    # Getting the names of students with the second lowest grade\n",
    "    second_lowest_students = [student[0] for student in students if student[1] == second_lowest_grade]\n",
    "\n",
    "    # Sorting the names alphabetically\n",
    "    second_lowest_students.sort()\n",
    "\n",
    "    # Printing the names of students with the second lowest grade\n",
    "    for name in second_lowest_students:\n",
    "        print(name)\n"
   ]
  },
  {
   "cell_type": "code",
   "execution_count": null,
   "metadata": {},
   "outputs": [],
   "source": [
    "'''  \n",
    "The provided code stub will read in a dictionary containing key/value pairs \n",
    "of name:[marks] for a list of students.\n",
    "Print the average of the marks array for the student name provided, \n",
    "showing 2 places after the decimal.\n",
    "'''"
   ]
  },
  {
   "cell_type": "code",
   "execution_count": 2,
   "metadata": {},
   "outputs": [
    {
     "ename": "KeyError",
     "evalue": "'79'",
     "output_type": "error",
     "traceback": [
      "\u001b[1;31m---------------------------------------------------------------------------\u001b[0m",
      "\u001b[1;31mKeyError\u001b[0m                                  Traceback (most recent call last)",
      "Cell \u001b[1;32mIn[2], line 12\u001b[0m\n\u001b[0;32m      8\u001b[0m     student_marks[name] \u001b[38;5;241m=\u001b[39m scores\n\u001b[0;32m     10\u001b[0m query_name \u001b[38;5;241m=\u001b[39m \u001b[38;5;28minput\u001b[39m()\n\u001b[1;32m---> 12\u001b[0m marks \u001b[38;5;241m=\u001b[39m \u001b[43mstudent_marks\u001b[49m\u001b[43m[\u001b[49m\u001b[43mquery_name\u001b[49m\u001b[43m]\u001b[49m\n\u001b[0;32m     13\u001b[0m average \u001b[38;5;241m=\u001b[39m \u001b[38;5;28msum\u001b[39m(marks) \u001b[38;5;241m/\u001b[39m \u001b[38;5;28mlen\u001b[39m(marks)\n\u001b[0;32m     14\u001b[0m \u001b[38;5;28mprint\u001b[39m(\u001b[38;5;124mf\u001b[39m\u001b[38;5;124m\"\u001b[39m\u001b[38;5;132;01m{\u001b[39;00maverage\u001b[38;5;132;01m:\u001b[39;00m\u001b[38;5;124m.2f\u001b[39m\u001b[38;5;132;01m}\u001b[39;00m\u001b[38;5;124m\"\u001b[39m)\n",
      "\u001b[1;31mKeyError\u001b[0m: '79'"
     ]
    }
   ],
   "source": [
    "if __name__ == '__main__':\n",
    "    n = int(input())\n",
    "    student_marks = {}\n",
    "    \n",
    "    for i in range(n):\n",
    "        name, *line = input().split()\n",
    "        scores = list(map(float, line))\n",
    "        student_marks[name] = scores\n",
    "        \n",
    "    query_name = input()\n",
    "    \n",
    "    marks = student_marks[query_name]\n",
    "    average = sum(marks) / len(marks)\n",
    "    print(f\"{average:.2f}\")"
   ]
  },
  {
   "cell_type": "code",
   "execution_count": null,
   "metadata": {},
   "outputs": [],
   "source": []
  },
  {
   "cell_type": "code",
   "execution_count": 1,
   "metadata": {},
   "outputs": [
    {
     "ename": "KeyError",
     "evalue": "'34'",
     "output_type": "error",
     "traceback": [
      "\u001b[1;31m---------------------------------------------------------------------------\u001b[0m",
      "\u001b[1;31mKeyError\u001b[0m                                  Traceback (most recent call last)",
      "Cell \u001b[1;32mIn[1], line 11\u001b[0m\n\u001b[0;32m      7\u001b[0m     student_marks[name] \u001b[38;5;241m=\u001b[39m marks\n\u001b[0;32m      9\u001b[0m query_name \u001b[38;5;241m=\u001b[39m \u001b[38;5;28minput\u001b[39m()\n\u001b[1;32m---> 11\u001b[0m marks \u001b[38;5;241m=\u001b[39m \u001b[43mstudent_marks\u001b[49m\u001b[43m[\u001b[49m\u001b[43mquery_name\u001b[49m\u001b[43m]\u001b[49m\n\u001b[0;32m     12\u001b[0m average \u001b[38;5;241m=\u001b[39m \u001b[38;5;28msum\u001b[39m(marks) \u001b[38;5;241m/\u001b[39m \u001b[38;5;28mlen\u001b[39m(marks)\n\u001b[0;32m     13\u001b[0m \u001b[38;5;28mprint\u001b[39m(\u001b[38;5;124mf\u001b[39m\u001b[38;5;124m\"\u001b[39m\u001b[38;5;132;01m{\u001b[39;00maverage\u001b[38;5;132;01m:\u001b[39;00m\u001b[38;5;124m.2f\u001b[39m\u001b[38;5;132;01m}\u001b[39;00m\u001b[38;5;124m\"\u001b[39m)\n",
      "\u001b[1;31mKeyError\u001b[0m: '34'"
     ]
    }
   ],
   "source": [
    "n = int(input())\n",
    "student_marks = {}\n",
    "for _ in range(n):\n",
    "    line = input().split()\n",
    "    name, marks = line[0], line[1:]\n",
    "    marks = list(map(float, marks))\n",
    "    student_marks[name] = marks\n",
    "\n",
    "query_name = input()\n",
    "\n",
    "marks = student_marks[query_name]\n",
    "average = sum(marks) / len(marks)\n",
    "print(f\"{average:.2f}\")"
   ]
  },
  {
   "cell_type": "code",
   "execution_count": 3,
   "metadata": {},
   "outputs": [
    {
     "name": "stdout",
     "output_type": "stream",
     "text": [
      "ttettecttettech\n"
     ]
    }
   ],
   "source": [
    "from functools import reduce \n",
    "\n",
    "str = 'tech'\n",
    "\n",
    "product = reduce(lambda x,y: x*2+y,str)\n",
    "print(product)"
   ]
  },
  {
   "cell_type": "code",
   "execution_count": 1,
   "metadata": {},
   "outputs": [],
   "source": [
    "# List Method \n",
    "''' \n",
    "list_val = [13,45,76,21,87,12,13,65,98,13,65]\n",
    "max,min,sum,sort(reversed=True),append, extend, \n",
    "insert(1,46),copy(),reverse(),\n",
    "index(val) , count(val), clear(), pop(),\n",
    "pop(index),remove(val), del list_val del list_val[index]\n",
    "'''"
   ]
  },
  {
   "cell_type": "code",
   "execution_count": 8,
   "metadata": {},
   "outputs": [
    {
     "name": "stdout",
     "output_type": "stream",
     "text": [
      "2\n"
     ]
    }
   ],
   "source": [
    "# Tuple Method .... \n",
    "\n",
    "tup = (23,'tech','12',True)\n",
    "\n",
    "#print(len(tup[0]))\n",
    "\n",
    "print(len(tup[2]))\n",
    "\n"
   ]
  },
  {
   "cell_type": "code",
   "execution_count": 12,
   "metadata": {},
   "outputs": [],
   "source": [
    "tup = list(tup)"
   ]
  },
  {
   "cell_type": "code",
   "execution_count": 11,
   "metadata": {},
   "outputs": [
    {
     "name": "stdout",
     "output_type": "stream",
     "text": [
      "['23', 'tech', '12', True]\n"
     ]
    }
   ],
   "source": [
    "tup[0] = '23'\n",
    "\n",
    "print(tup)"
   ]
  },
  {
   "cell_type": "code",
   "execution_count": 13,
   "metadata": {},
   "outputs": [
    {
     "name": "stdout",
     "output_type": "stream",
     "text": [
      "('23', 'tech', '12', True)\n"
     ]
    }
   ],
   "source": [
    "tup = tuple(tup)\n",
    "\n",
    "print(tup)"
   ]
  },
  {
   "cell_type": "code",
   "execution_count": 1,
   "metadata": {},
   "outputs": [],
   "source": [
    "arr = [58,72,74,92,84,40,74,81,76,83]\n"
   ]
  },
  {
   "cell_type": "code",
   "execution_count": 5,
   "metadata": {},
   "outputs": [
    {
     "data": {
      "text/plain": [
       "<Axes: >"
      ]
     },
     "execution_count": 5,
     "metadata": {},
     "output_type": "execute_result"
    },
    {
     "data": {
      "image/png": "[encoded data removed]",
      "text/plain": [
       "<Figure size 640x480 with 1 Axes>"
      ]
     },
     "metadata": {},
     "output_type": "display_data"
    }
   ],
   "source": [
    "import seaborn as sns\n",
    "import statistics as sts \n",
    "import numpy as np \n",
    "sns.boxplot(arr)"
   ]
  },
  {
   "cell_type": "code",
   "execution_count": 12,
   "metadata": {},
   "outputs": [
    {
     "data": {
      "text/plain": [
       "72.5"
      ]
     },
     "execution_count": 12,
     "metadata": {},
     "output_type": "execute_result"
    }
   ],
   "source": [
    "np.percentile(arr,25)"
   ]
  },
  {
   "cell_type": "code",
   "execution_count": 9,
   "metadata": {},
   "outputs": [
    {
     "data": {
      "text/plain": [
       "75.0"
      ]
     },
     "execution_count": 9,
     "metadata": {},
     "output_type": "execute_result"
    }
   ],
   "source": [
    "np.median(arr)"
   ]
  },
  {
   "cell_type": "code",
   "execution_count": 10,
   "metadata": {},
   "outputs": [
    {
     "data": {
      "text/plain": [
       "75.0"
      ]
     },
     "execution_count": 10,
     "metadata": {},
     "output_type": "execute_result"
    }
   ],
   "source": [
    "sts.median(arr)"
   ]
  },
  {
   "cell_type": "code",
   "execution_count": null,
   "metadata": {},
   "outputs": [],
   "source": [
    "'''  \n",
    "Given the participants' score sheet for your University Sports Day, \n",
    "you are required to find the runner-up score. You are given n scores. \n",
    "Store them in a list and find the score of the runner-up.\n",
    "'''"
   ]
  },
  {
   "cell_type": "code",
   "execution_count": null,
   "metadata": {},
   "outputs": [],
   "source": []
  },
  {
   "cell_type": "code",
   "execution_count": null,
   "metadata": {},
   "outputs": [],
   "source": []
  },
  {
   "cell_type": "code",
   "execution_count": 1,
   "metadata": {},
   "outputs": [
    {
     "name": "stdout",
     "output_type": "stream",
     "text": [
      "['89', '67', '45', '32', '21']\n",
      "67\n"
     ]
    }
   ],
   "source": [
    "# Read the input scores\n",
    "n = int(input())\n",
    "#scores = list(map(int, input().split()))\n",
    "scores=[]\n",
    "for i in range(n):\n",
    "    value = input(f\"Enter value {i+1}: \")\n",
    "    scores.append(value)\n",
    "    \n",
    "# Remove duplicates from the list\n",
    "unique_scores = list(set(scores))\n",
    "\n",
    "# Sort the list in descending order\n",
    "unique_scores.sort(reverse=True)\n",
    "\n",
    "print(unique_scores)\n",
    "# Print the runner-up score\n",
    "print(unique_scores[1])"
   ]
  },
  {
   "cell_type": "code",
   "execution_count": null,
   "metadata": {},
   "outputs": [],
   "source": []
  },
  {
   "cell_type": "code",
   "execution_count": null,
   "metadata": {},
   "outputs": [],
   "source": []
  },
  {
   "cell_type": "code",
   "execution_count": null,
   "metadata": {},
   "outputs": [],
   "source": [
    "if __name__ == '__main__':\n",
    "    n = int(input())\n",
    "    arr = map(int, input().split())\n",
    "    \n",
    "    new_list = list(set(arr))\n",
    "    \n",
    "    new_list.sort(reverse=True)\n",
    "    \n",
    "    print(new_list[1])"
   ]
  },
  {
   "cell_type": "code",
   "execution_count": null,
   "metadata": {},
   "outputs": [],
   "source": []
  },
  {
   "cell_type": "code",
   "execution_count": null,
   "metadata": {},
   "outputs": [],
   "source": [
    "''' \n",
    "Given an integer, , and  space-separated integers as input, create a tuple, , of those  integers. \n",
    "\n",
    "Then compute and print the result of .\n",
    "\n",
    "Note: hash() is one of the functions in the __builtins__ module, so it need not be imported.\n",
    "'''"
   ]
  },
  {
   "cell_type": "code",
   "execution_count": null,
   "metadata": {},
   "outputs": [],
   "source": [
    "''' \n",
    "To solve this problem, we can follow these steps:\n",
    "\n",
    "1. Read the input integers from the user.\n",
    "2. Convert the input integers into a tuple.\n",
    "3. Compute the hash value of the tuple using the hash() function.\n",
    "4. Print the computed hash value.\n",
    "\n",
    "'''"
   ]
  },
  {
   "cell_type": "code",
   "execution_count": 2,
   "metadata": {},
   "outputs": [
    {
     "name": "stdout",
     "output_type": "stream",
     "text": [
      "Invalid input: The number of integers provided does not match the given integer.\n"
     ]
    }
   ],
   "source": [
    "# Read the input\n",
    "n = int(input())\n",
    "integers = tuple(map(int, input().split()))\n",
    "\n",
    "# Check if the length of the tuple matches the given integer\n",
    "if n != len(integers):\n",
    "    print(\"Invalid input: The number of integers provided does not match the given integer.\")\n",
    "else:\n",
    "    # Compute the hash value of the tuple\n",
    "    hash_value = hash(integers)\n",
    "    print(hash_value)"
   ]
  },
  {
   "cell_type": "code",
   "execution_count": null,
   "metadata": {},
   "outputs": [],
   "source": [
    "df = pd.read_csv('data/Walmart_Sales.csv')\n",
    "df = pd.read_csv('data/amazon.csv')\n",
    "df.head()"
   ]
  },
  {
   "cell_type": "code",
   "execution_count": 14,
   "metadata": {},
   "outputs": [],
   "source": [
    "import logging\n",
    "\n",
    "logging.basicConfig(filename='app.log', level=logging.ERROR)\n",
    "\n",
    "try:\n",
    "    with open('example.txt', 'r') as file:\n",
    "        content = file.read()\n",
    "except IOError as e:\n",
    "    logging.error(f\"An error occurred: {e}\")\n",
    "\n"
   ]
  },
  {
   "cell_type": "code",
   "execution_count": 1,
   "metadata": {},
   "outputs": [
    {
     "name": "stdout",
     "output_type": "stream",
     "text": [
      "Covariance (NumPy): 1.5\n",
      "Covariance (Pandas): 1.5\n",
      "Correlation (NumPy): 0.7745966692414834\n",
      "Correlation (Pandas): 0.7745966692414834\n"
     ]
    }
   ],
   "source": [
    "import numpy as np\n",
    "import pandas as pd\n",
    "\n",
    "# Sample data\n",
    "x = np.array([1, 2, 3, 4, 5])\n",
    "y = np.array([2, 4, 5, 4, 5])\n",
    "\n",
    "# Create a DataFrame\n",
    "df = pd.DataFrame({'X': x, 'Y': y})\n",
    "\n",
    "# Covariance\n",
    "# 1. Using NumPy\n",
    "cov_np = np.cov(x, y)[0, 1]\n",
    "\n",
    "# 2. Using Pandas\n",
    "cov_pd = df.cov().loc['X', 'Y']\n",
    "\n",
    "# Correlation\n",
    "# 1. Using NumPy\n",
    "corr_np = np.corrcoef(x, y)[0, 1]\n",
    "\n",
    "# 2. Using Pandas\n",
    "corr_pd = df.corr().loc['X', 'Y']\n",
    "\n",
    "print(f\"Covariance (NumPy): {cov_np}\")\n",
    "print(f\"Covariance (Pandas): {cov_pd}\")\n",
    "print(f\"Correlation (NumPy): {corr_np}\")\n",
    "print(f\"Correlation (Pandas): {corr_pd}\")"
   ]
  },
  {
   "cell_type": "code",
   "execution_count": 2,
   "metadata": {},
   "outputs": [
    {
     "data": {
      "image/png": "[encoded data removed]",
      "text/plain": [
       "<Figure size 1500x500 with 3 Axes>"
      ]
     },
     "metadata": {},
     "output_type": "display_data"
    }
   ],
   "source": [
    "import numpy as np\n",
    "import matplotlib.pyplot as plt\n",
    "from sklearn.preprocessing import PolynomialFeatures\n",
    "from sklearn.linear_model import LinearRegression\n",
    "from sklearn.metrics import mean_squared_error\n",
    "\n",
    "# Generate sample data\n",
    "np.random.seed(0)\n",
    "X = np.sort(np.random.rand(20, 1), axis=0)\n",
    "y = np.cos(1.5 * np.pi * X).ravel() + np.random.randn(20) * 0.1\n",
    "\n",
    "# Function to fit polynomial regression\n",
    "def fit_polynomial(X, y, degree):\n",
    "    poly_features = PolynomialFeatures(degree=degree, include_bias=False)\n",
    "    X_poly = poly_features.fit_transform(X)\n",
    "    model = LinearRegression()\n",
    "    model.fit(X_poly, y)\n",
    "    return model, poly_features\n",
    "\n",
    "# Fit models with different degrees\n",
    "degrees = [1, 3, 15]  # Underfitting, good fit, overfitting\n",
    "X_test = np.linspace(0, 1, 100).reshape(-1, 1)\n",
    "\n",
    "plt.figure(figsize=(15, 5))\n",
    "for i, degree in enumerate(degrees):\n",
    "    model, poly_features = fit_polynomial(X, y, degree)\n",
    "    y_pred = model.predict(poly_features.transform(X_test))\n",
    "    mse = mean_squared_error(y, model.predict(poly_features.transform(X)))\n",
    "    \n",
    "    plt.subplot(1, 3, i+1)\n",
    "    plt.scatter(X, y, color='r', label='Training data')\n",
    "    plt.plot(X_test, y_pred, label=f'Degree {degree}')\n",
    "    plt.title(f'Degree {degree} - MSE: {mse:.4f}')\n",
    "    plt.legend()\n",
    "\n",
    "plt.tight_layout()\n",
    "plt.show()"
   ]
  },
  {
   "cell_type": "code",
   "execution_count": null,
   "metadata": {},
   "outputs": [],
   "source": [
    "'''  \n",
    "Write a function createHelloWorld. \n",
    "It should return a new function that always \n",
    "returns \"Hello World\".\n",
    "'''"
   ]
  },
  {
   "cell_type": "code",
   "execution_count": 1,
   "metadata": {},
   "outputs": [
    {
     "name": "stdout",
     "output_type": "stream",
     "text": [
      "Common elements: 4 5 \n",
      "No common elements found\n"
     ]
    }
   ],
   "source": [
    "def find_common_elements(arr1, arr2):\n",
    "    common_elements = set(arr1) & set(arr2)\n",
    "    \n",
    "    if common_elements:\n",
    "        print(\"Common elements:\", end=\" \")\n",
    "        for element in common_elements:\n",
    "            print(element, end=\" \")\n",
    "        print()  # for a new line after printing all common elements\n",
    "    else:\n",
    "        return -1\n",
    "\n",
    "# Example usage:\n",
    "# Example 1: With common elements\n",
    "array1 = [1, 2, 3, 4, 5]\n",
    "array2 = [4, 5, 6, 7, 8]\n",
    "result = find_common_elements(array1, array2)\n",
    "if result == -1:\n",
    "    print(\"No common elements found\")\n",
    "\n",
    "# Example 2: Without common elements\n",
    "array3 = [1, 2, 3]\n",
    "array4 = [4, 5, 6]\n",
    "result = find_common_elements(array3, array4)\n",
    "if result == -1:\n",
    "    print(\"No common elements found\")"
   ]
  },
  {
   "cell_type": "code",
   "execution_count": null,
   "metadata": {},
   "outputs": [],
   "source": []
  },
  {
   "cell_type": "code",
   "execution_count": 11,
   "metadata": {},
   "outputs": [
    {
     "data": {
      "text/plain": [
       "'Hello World'"
      ]
     },
     "execution_count": 11,
     "metadata": {},
     "output_type": "execute_result"
    }
   ],
   "source": [
    "def createHelloWorld():\n",
    "  # \"\"\"\n",
    "  # This function creates a closure that returns \"Hello World\".\n",
    "  # \"\"\"\n",
    "  def say_hello():\n",
    "    return \"Hello World\"\n",
    "  return say_hello\n",
    "\n",
    "# Create a function object that holds the closure\n",
    "f = createHelloWorld()\n",
    "\n",
    "# Call the function object to get the greeting\n",
    "f()\n"
   ]
  },
  {
   "cell_type": "code",
   "execution_count": 12,
   "metadata": {},
   "outputs": [
    {
     "name": "stdout",
     "output_type": "stream",
     "text": [
      "Hellow World\n"
     ]
    }
   ],
   "source": [
    "def createHelloWorld():\n",
    "    x = lambda : 'Hellow World'\n",
    "    return x\n",
    "\n",
    "f = createHelloWorld()\n",
    "print(f())"
   ]
  },
  {
   "cell_type": "code",
   "execution_count": 13,
   "metadata": {},
   "outputs": [
    {
     "data": {
      "text/plain": [
       "'Hellow World'"
      ]
     },
     "execution_count": 13,
     "metadata": {},
     "output_type": "execute_result"
    }
   ],
   "source": [
    "createHelloWorld = lambda : lambda: 'Hellow World'\n",
    "\n",
    "f = createHelloWorld()\n",
    "\n",
    "f()"
   ]
  }
 ],
 "metadata": {
  "kernelspec": {
   "display_name": "Python 3",
   "language": "python",
   "name": "python3"
  },
  "language_info": {
   "codemirror_mode": {
    "name": "ipython",
    "version": 3
   },
   "file_extension": ".py",
   "mimetype": "text/x-python",
   "name": "python",
   "nbconvert_exporter": "python",
   "pygments_lexer": "ipython3",
   "version": "3.12.1"
  }
 },
 "nbformat": 4,
 "nbformat_minor": 2
}
